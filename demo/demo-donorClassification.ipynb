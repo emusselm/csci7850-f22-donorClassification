{
 "cells": [
  {
   "cell_type": "markdown",
   "id": "7a6cce6e-6f14-4cb1-a6a3-b3c49b3165c2",
   "metadata": {},
   "source": [
    "## Donor Classification Demo"
   ]
  },
  {
   "cell_type": "code",
   "execution_count": null,
   "id": "af7d877c-efa4-44ed-a546-cd7ed4a84d0d",
   "metadata": {},
   "outputs": [],
   "source": [
    "#import all necessary tools for the demo\n",
    "import ipywidgets as widgets\n",
    "import pandas as pd\n",
    "import numpy as np\n",
    "import tensorflow.keras as keras"
   ]
  },
  {
   "cell_type": "code",
   "execution_count": null,
   "id": "b0cf5fe9-fdd9-46b0-8d23-fc0ac3ba8eb2",
   "metadata": {},
   "outputs": [],
   "source": [
    "#preprocess function for numerical data\n",
    "mean = 7011.6283\n",
    "std = 17785.2253\n",
    "def preprocess(x):\n",
    "    return (x - mean) / std"
   ]
  },
  {
   "cell_type": "code",
   "execution_count": null,
   "id": "a9a2084c-e457-4d08-b645-4cd16378b469",
   "metadata": {},
   "outputs": [],
   "source": [
    "# Define all widgets for alumni data entry\n",
    "\n",
    "#alumni sex\n",
    "sex = widgets.RadioButtons(\n",
    "    options=['M', 'F'],\n",
    "    disabled=False\n",
    ")\n",
    "\n",
    "#alumni age\n",
    "age = widgets.IntText(\n",
    "    value = 22,\n",
    "    description='Age:',\n",
    "    disabled=False\n",
    ")\n",
    "\n",
    "#alumni primary graduation year (If the alumni has multiple degrees from the university, they will choose the graduation year of their first degree\n",
    "grad_year = widgets.BoundedIntText(\n",
    "   # description=\"Primary Graduation Year:\",\n",
    "    value=2022,\n",
    "    min=1920,\n",
    "    max = 2099\n",
    ")\n",
    "\n",
    "#alumni major\n",
    "major = widgets.Dropdown(\n",
    "    options=['Curriculum & Inst/Ed Leadrshp', 'Psychology', 'Mathematics', 'Criminal Justice Admin', 'Marketing', 'Industrial Technology', 'Speech & Theatre', 'Foreign Languages*', 'Organizational Communication', 'Computer Science', 'Mass Communication', 'Administration & Supervision', 'University Studies', 'Early Childhood Education', 'Geosciences', 'Political Science', 'Liberal Studies', 'Information Systems', 'Business Administration', 'Nursing', 'Interdisciplinary Studies', 'Textiles Merchandising Design', 'English', 'Special Education', 'Adv Stud in Teaching Learning', 'Accounting', 'Agribusiness', 'Concrete Industry Management', 'Management', 'Entrepreneurship', 'Physical Education', 'Finance', 'Recording Industry', 'Engineering Technology', 'Recreation & Leisure Services', 'Social Work', 'Business Education', 'Plant & Soil Science', 'Music', 'Philosophy', 'Art Education', 'Health Education', 'Biology', 'Family & Consumer Studies', 'Aerospace', 'Engr Tech & Industrial Studies', 'Art', 'Interior Design', 'Reading', 'Science', 'History', 'Professional Studies', 'Construction Mgmt Technology', 'Animal Science', 'Accounting & Info Systems', 'Industrial Management', 'Environmental Science Tech', 'International Relations', 'Human Sciences', 'Dyslexic Studies', 'Chemistry', 'Sociology', 'Office Management', 'Health, Physical Ed & Rec', 'Construction Management', 'Curriculum & Inst/Elem Edu*', 'Anthropology', 'Global Studies', 'Recording Arts & Technologies', 'Economics', 'Physics', 'Exercise Science', 'Professional Science', 'Nutrition & Food Science', 'Art History', 'Professional Counseling', 'Biochemistry', 'Gerontology*', 'Industrial & Org Psychology', 'Literacy', 'Health and Human Performance', 'Theatre', 'Leisure Sprt & Tourism Studies', 'Human Performance', 'Integrated Studies', 'Leisure and Sport Management', 'Speech/Language Path & Audio', 'Literacy Studies', 'Environmental Sustain Tech', 'Global Studies & Cultural Geog', 'Forensic Science', 'Computational Science', 'Assessment, Lrn & Sch Imprvmnt', 'Community & Public Health', 'Mechatronics Engineering', 'Library Science*', 'International Affairs', 'Journalism', 'Media & Entertainment', 'Communication', 'Dance', 'Global Studies & Human Geog', 'Animation', 'Foreign Languages', 'Environmental Science', 'Commerce', 'Fermentation Science', 'Religious Studies', 'Elementary Education', 'Video & Film Production', 'Audio Production', 'Horse Science', 'Aeronautical Science', 'Interactive Media', 'Data Science', 'Tourism & Hospitality Mgmt', 'Athletic Training', 'Actuarial Science', 'Liberal Arts', 'Supply Chain Management', 'Health Care Management', 'Exercise Science & Healt Promo', 'Family Nurse Practitioner', 'U.S. Culture and Education', 'College & University Teaching', 'Mathematics & Science Educ', 'Molecular Biosciences', 'Media and Communication', 'Risk Management & Insurance', 'Curriculum & Inst/Psychology', 'Public History', 'Public Health', 'Aerospace Education', 'Aviation Administration', 'Africana Studies', 'Road Construction Technology', 'Business Innovation & Entr', 'School Counseling', 'Applied Social Research', 'Middle Level Education', 'Academic Focus', \"Women's and Gender Studies\", 'Museum Management', 'Assurance', 'Archival Management', 'Psychiatric Mental Health NP', 'Aviation Business', 'Leisure, Sport, & Tourism Mgmt', 'Other'],\n",
    "    value='Other',\n",
    "    description='Major:',\n",
    "    disabled=False,\n",
    ")\n",
    "\n",
    "#alumni zip code\n",
    "zip_code = widgets.BoundedIntText(\n",
    "   # description=\"Primary Graduation Year:\",\n",
    "    value=37130,\n",
    "    min=601,\n",
    "    max=99999\n",
    ")\n",
    "\n",
    "# if an alumnus' address is active or inactive\n",
    "address_active = widgets.RadioButtons(\n",
    "    options=[0, 1],\n",
    "    value = 1,\n",
    "    disabled=False\n",
    ")\n",
    "\n",
    "# alumni activity count\n",
    "activity_count = widgets.IntText(\n",
    "    description='Count:',\n",
    "    disabled=False\n",
    ")\n",
    "\n",
    "alumni_data = widgets.Accordion(children=[sex, age, grad_year, zip_code, address_active, activity_count, major])\n",
    "alumni_data.set_title(0, 'Sex')\n",
    "alumni_data.set_title(1, 'Age')\n",
    "alumni_data.set_title(2, 'Graduation Year')\n",
    "alumni_data.set_title(3, 'Zip Code')\n",
    "alumni_data.set_title(4, 'Address Active')\n",
    "alumni_data.set_title(5, 'Activity Count')\n",
    "alumni_data.set_title(6, 'Major')"
   ]
  },
  {
   "cell_type": "markdown",
   "id": "86885799-0852-44e6-8831-298f010d2699",
   "metadata": {},
   "source": [
    "## Alumni Data Entry\n",
    "#### Please enter all alumni data appropriately into the widgets below. "
   ]
  },
  {
   "cell_type": "code",
   "execution_count": null,
   "id": "3663fcc1-f29b-4f29-b8a1-9ce619ea9952",
   "metadata": {},
   "outputs": [],
   "source": [
    "display(alumni_data)"
   ]
  },
  {
   "cell_type": "code",
   "execution_count": null,
   "id": "2bfcc484-f480-42cd-81da-7567207cb0d5",
   "metadata": {},
   "outputs": [],
   "source": [
    "#verify all information\n",
    "[alumni_data.children[i].value for i in range(len(alumni_data.children))]"
   ]
  },
  {
   "cell_type": "code",
   "execution_count": null,
   "id": "f600adde-184c-40e9-a109-0d2cc407e898",
   "metadata": {},
   "outputs": [],
   "source": [
    "data = [[alumni_data.children[i].value for i in range(len(alumni_data.children))]]\n",
    "\n",
    "alumni = pd.DataFrame(data, columns=['Sex', 'Age', 'Graduation_Year', 'Zip', 'Address_Active',\n",
    "       'Activity_Count', 'Major'])"
   ]
  },
  {
   "cell_type": "markdown",
   "id": "2ad9f8c4-6d1d-4126-bbf2-7652c98f34a8",
   "metadata": {},
   "source": [
    "## Survey Data Download\n",
    "#### Please download compiled survey data from US Census and American Community Survey"
   ]
  },
  {
   "cell_type": "code",
   "execution_count": null,
   "id": "268913f1-5ab4-4be1-8a7f-9104fd6cec75",
   "metadata": {},
   "outputs": [],
   "source": [
    "!wget -O survey_data.csv https://csci7850-f22-semesterproject.nyc3.digitaloceanspaces.com/survey_data.csv"
   ]
  },
  {
   "cell_type": "code",
   "execution_count": null,
   "id": "2cfbe35f-d3f0-4457-8cc8-8eb01e09face",
   "metadata": {},
   "outputs": [],
   "source": [
    "#load survey information\n",
    "survey = pd.read_csv(\"survey_data.csv\")"
   ]
  },
  {
   "cell_type": "code",
   "execution_count": null,
   "id": "62f71575-caf9-4375-bc9a-48b0fe950893",
   "metadata": {},
   "outputs": [],
   "source": [
    "#fill NA values with mean values\n",
    "with_NA = survey[survey.columns[survey.isna().any()]].columns\n",
    "for column_name in with_NA:\n",
    "    #print(column_name)\n",
    "    x = survey[column_name].mean()\n",
    "    survey[column_name].fillna(x, inplace = True)"
   ]
  },
  {
   "cell_type": "markdown",
   "id": "dc5383a8-5003-4339-9c42-2121c8ec6d84",
   "metadata": {},
   "source": [
    "## Merge Alumni and Survey Data\n",
    "#### Combine the data on the zip code of the alumni and perform data cleaning steps to prepare data for the model"
   ]
  },
  {
   "cell_type": "code",
   "execution_count": null,
   "id": "af1e5f08-873c-4830-bf51-2b3404323522",
   "metadata": {},
   "outputs": [],
   "source": [
    "all_data = pd.merge(alumni, \n",
    "                      survey, \n",
    "                      on ='Zip', \n",
    "                      how ='inner')\n",
    "all_data = all_data.drop(\"Zip\", axis=1)"
   ]
  },
  {
   "cell_type": "code",
   "execution_count": null,
   "id": "6c6a6b15-52a6-485c-a472-99657736740b",
   "metadata": {},
   "outputs": [],
   "source": [
    "#encode male/female\n",
    "all_data[[\"Sex_Female\", \"Sex_Male\"]]=[[0,1] if all_data['Sex'][0] == 'M' else [1,0]]\n",
    "all_data = all_data.drop(\"Sex\", axis=1)"
   ]
  },
  {
   "cell_type": "code",
   "execution_count": null,
   "id": "1c323982-e39f-4ce1-b40f-dd90170c6f1c",
   "metadata": {},
   "outputs": [],
   "source": [
    "#encode major\n",
    "major_dict = {'Curriculum & Inst/Ed Leadrshp': 0, 'Psychology': 1, 'Mathematics': 2, 'Criminal Justice Admin': 3, 'Marketing': 4, 'Industrial Technology': 5, 'Speech & Theatre': 6, 'Foreign Languages*': 7, 'Organizational Communication': 8, 'Computer Science': 9, 'Mass Communication': 10, 'Administration & Supervision': 11, 'University Studies': 12, 'Early Childhood Education': 13, 'Geosciences': 14, 'Political Science': 15, 'Liberal Studies': 16, 'Information Systems': 17, 'Business Administration': 18, 'Nursing': 19, 'Interdisciplinary Studies': 20, 'Textiles Merchandising Design': 21, 'English': 22, 'Special Education': 23, 'Adv Stud in Teaching Learning': 24, 'Accounting': 25, 'Agribusiness': 26, 'Concrete Industry Management': 27, 'Management': 28, 'Entrepreneurship': 29, 'Physical Education': 30, 'Finance': 31, 'Recording Industry': 32, 'Engineering Technology': 33, 'Recreation & Leisure Services': 34, 'Social Work': 35, 'Business Education': 36, 'Plant & Soil Science': 37, 'Music': 38, 'Philosophy': 39, 'Art Education': 40, 'Health Education': 41, 'Biology': 42, 'Family & Consumer Studies': 43, 'Aerospace': 44, 'Engr Tech & Industrial Studies': 45, 'Art': 46, 'Interior Design': 47, 'Reading': 48, 'Science': 49, 'History': 50, 'Professional Studies': 51, 'Construction Mgmt Technology': 52, 'Animal Science': 53, 'Accounting & Info Systems': 54, 'Industrial Management': 55, 'Environmental Science Tech': 56, 'International Relations': 57, 'Human Sciences': 58, 'Dyslexic Studies': 59, 'Chemistry': 60, 'Sociology': 61, 'Office Management': 62, 'Health, Physical Ed & Rec': 63, 'Construction Management': 64, 'Curriculum & Inst/Elem Edu*': 65, 'Anthropology': 66, 'Global Studies': 67, 'Recording Arts & Technologies': 68, 'Economics': 69, 'Physics': 70, 'Exercise Science': 71, 'Professional Science': 72, 'Nutrition & Food Science': 73, 'Art History': 74, 'Professional Counseling': 75, 'Biochemistry': 76, 'Gerontology*': 77, 'Industrial & Org Psychology': 78, 'Literacy': 79, 'Health and Human Performance': 80, 'Theatre': 81, 'Leisure Sprt & Tourism Studies': 82, 'Human Performance': 83, 'Integrated Studies': 84, 'Leisure and Sport Management': 85, 'Speech/Language Path & Audio': 86, 'Literacy Studies': 87, 'Environmental Sustain Tech': 88, 'Global Studies & Cultural Geog': 89, 'Forensic Science': 90, 'Computational Science': 91, 'Assessment, Lrn & Sch Imprvmnt': 92, 'Community & Public Health': 93, 'Mechatronics Engineering': 94, 'Library Science*': 95, 'International Affairs': 96, 'Journalism': 97, 'Media & Entertainment': 98, 'Communication': 99, 'Dance': 100, 'Global Studies & Human Geog': 101, 'Animation': 102, 'Foreign Languages': 103, 'Environmental Science': 104, 'Commerce': 105, 'Fermentation Science': 106, 'Religious Studies': 107, 'Elementary Education': 108, 'Video & Film Production': 109, 'Audio Production': 110, 'Horse Science': 111, 'Aeronautical Science': 112, 'Interactive Media': 113, 'Data Science': 114, 'Tourism & Hospitality Mgmt': 115, 'Athletic Training': 116, 'Actuarial Science': 117, 'Liberal Arts': 118, 'Supply Chain Management': 119, 'Health Care Management': 120, 'Exercise Science & Healt Promo': 121, 'Family Nurse Practitioner': 122, 'U.S. Culture and Education': 123, 'College & University Teaching': 124, 'Mathematics & Science Educ': 125, 'Molecular Biosciences': 126, 'Media and Communication': 127, 'Risk Management & Insurance': 128, 'Curriculum & Inst/Psychology': 129, 'Public History': 130, 'Public Health': 131, 'Aerospace Education': 132, 'Aviation Administration': 133, 'Africana Studies': 134, 'Road Construction Technology': 135, 'Business Innovation & Entr': 136, 'School Counseling': 137, 'Applied Social Research': 138, 'Middle Level Education': 139, 'Academic Focus': 140, \"Women's and Gender Studies\": 141, 'Museum Management': 142, 'Assurance': 143, 'Archival Management': 144, 'Psychiatric Mental Health NP': 145, 'Aviation Business': 146, 'Leisure, Sport, & Tourism Mgmt': 147, 'Other': 148}\n",
    "# put the rest of the major dictionary here. Split data for each model....figure it out later\n",
    "all_data[\"Major\"] = all_data[\"Major\"].replace(major_dict)\n",
    "\n",
    "#append major column to the end\n",
    "save_column = all_data[\"Major\"]\n",
    "all_data.drop(\"Major\", axis=1, inplace=True)\n",
    "all_data[\"Major\"] = save_column"
   ]
  },
  {
   "cell_type": "code",
   "execution_count": null,
   "id": "b3464665-83e9-4007-a9f3-7f3df0bf80a7",
   "metadata": {},
   "outputs": [],
   "source": [
    "#seperate numerical and categorical data -- preprocess numerical data\n",
    "X = all_data.iloc[:, :].values\n",
    "x1 = X[:,:-1]\n",
    "x1 = preprocess(x1)\n",
    "x2 = X[:,-1:]"
   ]
  },
  {
   "cell_type": "markdown",
   "id": "5b0b59b7-9a13-44f1-a4d9-484292c3e832",
   "metadata": {},
   "source": [
    "## Download Donor/Non-Donor Classification Model\n",
    "#### This model classifies Alumni as donors or non-donors, given the data above. "
   ]
  },
  {
   "cell_type": "code",
   "execution_count": null,
   "id": "4ab08942-4a0d-4885-830b-970a3b30cf59",
   "metadata": {},
   "outputs": [],
   "source": [
    "#get the pretrained model\n",
    "!wget -O donor_classification.h5 https://csci7850-f22-semesterproject.nyc3.digitaloceanspaces.com/donor_classification.h5"
   ]
  },
  {
   "cell_type": "code",
   "execution_count": null,
   "id": "cb5167bf-fae9-4833-95af-9b3ee293f884",
   "metadata": {},
   "outputs": [],
   "source": [
    "#load and graph the model\n",
    "model = keras.models.load_model(\"donor_classification.h5\")\n",
    "#keras.utils.plot_model(model,show_shapes=True,expand_nested=True)"
   ]
  },
  {
   "cell_type": "markdown",
   "id": "fcd8fed2-b976-496c-afec-bd73828e4ad7",
   "metadata": {},
   "source": [
    "## Donor Classification Final Prediction\n",
    "#### If model predicts less than 0.5, the Alumni is predicted to be a non-donor. Otherwise, the Alumni is predicted to be a donor"
   ]
  },
  {
   "cell_type": "code",
   "execution_count": null,
   "id": "160db07f-8185-48a3-9690-ce7deab354fc",
   "metadata": {},
   "outputs": [],
   "source": [
    "prediction = model.predict([x1,x2])[0][0]\n",
    "if(prediction < 0.5):\n",
    "    print(\"Alumni is a non-donor.\")\n",
    "else:\n",
    "    print(\"Alumni is a donor.\")"
   ]
  }
 ],
 "metadata": {
  "kernelspec": {
   "display_name": "Python 3 (ipykernel)",
   "language": "python",
   "name": "python3"
  },
  "language_info": {
   "codemirror_mode": {
    "name": "ipython",
    "version": 3
   },
   "file_extension": ".py",
   "mimetype": "text/x-python",
   "name": "python",
   "nbconvert_exporter": "python",
   "pygments_lexer": "ipython3",
   "version": "3.10.5"
  }
 },
 "nbformat": 4,
 "nbformat_minor": 5
}
