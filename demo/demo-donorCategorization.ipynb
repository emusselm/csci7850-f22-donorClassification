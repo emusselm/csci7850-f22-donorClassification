{
 "cells": [
  {
   "cell_type": "markdown",
   "id": "7a6cce6e-6f14-4cb1-a6a3-b3c49b3165c2",
   "metadata": {},
   "source": [
    "## Donor Classification and Categorization Demo"
   ]
  },
  {
   "cell_type": "code",
   "execution_count": null,
   "id": "af7d877c-efa4-44ed-a546-cd7ed4a84d0d",
   "metadata": {},
   "outputs": [],
   "source": [
    "#import all necessary tools for the demo\n",
    "import ipywidgets as widgets\n",
    "import pandas as pd\n",
    "import numpy as np\n",
    "import tensorflow.keras as keras"
   ]
  },
  {
   "cell_type": "code",
   "execution_count": null,
   "id": "b0cf5fe9-fdd9-46b0-8d23-fc0ac3ba8eb2",
   "metadata": {},
   "outputs": [],
   "source": [
    "#preprocess function for numerical data\n",
    "mean = 6906.2298\n",
    "std = 18287.9453\n",
    "\n",
    "def preprocess(x):\n",
    "    return (x - mean) / std"
   ]
  },
  {
   "cell_type": "code",
   "execution_count": null,
   "id": "a9a2084c-e457-4d08-b645-4cd16378b469",
   "metadata": {},
   "outputs": [],
   "source": [
    "# Define all widgets for alumni data entry\n",
    "\n",
    "#alumni sex\n",
    "sex = widgets.RadioButtons(\n",
    "    options=['M', 'F'],\n",
    "    disabled=False\n",
    ")\n",
    "\n",
    "#alumni age\n",
    "age = widgets.IntText(\n",
    "    value = 22,\n",
    "    description='Age:',\n",
    "    disabled=False\n",
    ")\n",
    "\n",
    "#alumni primary graduation year (If the alumni has multiple degrees from the university, they will choose the graduation year of their first degree\n",
    "grad_year = widgets.BoundedIntText(\n",
    "   # description=\"Primary Graduation Year:\",\n",
    "    value=2022,\n",
    "    min=1920,\n",
    "    max = 2099\n",
    ")\n",
    "\n",
    "#alumni major\n",
    "major = widgets.Dropdown(\n",
    "    options = ['Agriculture', 'Psychology', 'Animal Science', 'Biology', 'Aerospace Administration', 'Information Systems', 'Social Work', 'Sociology', 'Health, Physical Ed & Rec', 'Interdisciplinary Studies', 'Accounting', 'Physical Education', 'Geosciences', 'Mass Communication', 'Political Science', 'Marketing', 'Finance', 'Recording Industry', 'Criminal Justice Admin', 'Aerospace', 'History', 'English', 'Nursing', 'Professional Studies', 'Foreign Languages*', 'Integrated Studies', 'Communication', 'Health and Human Performance', 'Mathematics', 'Social', 'Home Economics', 'Elementary Education', 'Business Administration', 'Industrial Studies', 'Health', 'Chemistry', 'Business Education', 'Economics', 'Art', 'Administration & Supervision', 'General Business', 'P E Elementary Schools', 'Curriculum Specialist', 'Reading', 'Speech & Theatre', 'Urban Planning', 'Computer Science', 'Recording Industry Mgmt', 'Office Management', 'Social Science', 'Food Science and Technology', 'Early Childhood', 'Early Childhood Education', 'Industrial Management', 'Interior Design', 'Music', 'Speech', 'Industrial Technology', 'Speech and Hearing Therapy', 'Special Education', 'Management', 'Medical Technology', 'Professional', 'Recreation', 'Stenographic Business', 'Health Education', 'Administrative Business', 'Curriculum and Instruction', 'Gerontology*', 'Human Sciences', 'Guidance and Counseling', 'University Studies', 'Textiles Merchandising Design', 'Plant & Soil Science', 'Family & Consumer Studies', 'Agribusiness', 'Liberal Studies', 'International Relations', 'Entrepreneurship', 'Engineering Technology', 'Curriculum & Inst/Elem Edu*', 'Industrial & Org Psychology', 'Biochemistry', 'Concrete Industry Management', 'Organizational Communication', 'Construction Management', 'Science', 'Exercise Science', 'Speech/Language Path & Audio', 'Curriculum & Inst/Ed Leadrshp', 'Nutrition & Food Science', 'Physics', 'Global Studies & Cultural Geog', 'Leisure Sprt & Tourism Studies', 'Mechatronics Engineering', 'Animation', 'Public History', 'Global Studies & Human Geog', 'Religious Studies', 'Tourism & Hospitality Mgmt', 'Journalism', 'Theatre', 'Media & Entertainment', 'Art Education', 'International Affairs', 'Video & Film Production', 'Professional Science', 'Applied Social Research', 'Mathematics & Science Educ', 'Information Technology', 'Plant Biology', 'Vocational Technical Education', 'Engr Tech & Industrial Studies', 'Foreign Languages', 'Industrial Arts', 'Geography', 'Industrial Education', 'Wellness and Fitness', 'Recreation & Leisure Services', 'Anthropology', 'Aviation Administration', 'U.S. Culture and Education', 'Environmental Sustain Tech', 'Africana Studies', 'Liberal Arts', 'Environmental Science', 'Professional Counseling', 'Commerce', 'Philosophy', 'Aerospace Education', 'Systems Analysis', 'Environmental Science Tech', 'Pre-Law', 'Vocational Home Economics', 'Earth Science*', 'Accounting & Info Systems', 'Foods and Nutrition', 'Law Enforcement', 'Fashion Merchandising', 'Basic & Applied', 'Social Studies', 'Athletic Training', 'Construction Mgmt Technology', 'Recording Arts & Technologies', 'Art History', 'Global Studies', 'Literacy', 'Community & Public Health', 'Dance', 'Literacy Studies', 'Assessment, Lrn & Sch Imprvmnt', 'Forensic Science', 'Audio Production', 'Library Science*', 'Home Economics Education', 'Education*', 'Instrumental Music', 'Public Administration', 'Actuarial Science', 'Music Education', 'Industrial Relations', 'Marketing Education', 'Human Performance', 'Adv Stud in Teaching Learning', 'French', 'Management/Marketing', 'School Music', 'Pre Professional', 'Media and Communication', 'Fermentation Science', 'Leisure and Sport Management', 'Data Science', 'Exercise Science & Healt Promo', 'Interactive Media', 'Risk Management & Insurance', 'Horse Science', 'Health & Physical Education', 'Dyslexic Studies', 'Natural Science', 'Music Arts', 'Spanish', 'School Counseling', 'Academic Focus', 'Fashion', 'German', 'Physical Science', 'College & University Teaching', 'Public Health', 'Aeronautical Science', 'Middle Level Education', 'Business Innovation & Entr', 'Dietetics', 'Curriculum & Inst/Psychology', 'Industrial Arts - General', 'Family Nurse Practitioner', 'Other'],\n",
    "    value='Other',\n",
    "    description='Major:',\n",
    "    disabled=False,\n",
    ")\n",
    "\n",
    "#alumni zip code\n",
    "zip_code = widgets.BoundedIntText(\n",
    "   # description=\"Primary Graduation Year:\",\n",
    "    value=37130,\n",
    "    min=601,\n",
    "    max=99999\n",
    ")\n",
    "\n",
    "# if an alumnus' address is active or inactive\n",
    "address_active = widgets.RadioButtons(\n",
    "    options=[0, 1],\n",
    "    value = 1,\n",
    "    disabled=False\n",
    ")\n",
    "\n",
    "# alumni activity count\n",
    "activity_count = widgets.IntText(\n",
    "    description='Count:',\n",
    "    disabled=False\n",
    ")\n",
    "\n",
    "alumni_data = widgets.Accordion(children=[sex, age, grad_year, zip_code, address_active, activity_count, major])\n",
    "alumni_data.set_title(0, 'Sex')\n",
    "alumni_data.set_title(1, 'Age')\n",
    "alumni_data.set_title(2, 'Graduation Year')\n",
    "alumni_data.set_title(3, 'Zip Code')\n",
    "alumni_data.set_title(4, 'Address Active')\n",
    "alumni_data.set_title(5, 'Activity Count')\n",
    "alumni_data.set_title(6, 'Major')"
   ]
  },
  {
   "cell_type": "markdown",
   "id": "86885799-0852-44e6-8831-298f010d2699",
   "metadata": {},
   "source": [
    "## Alumni Data Entry\n",
    "#### Please enter all alumni data appropriately into the widgets below. "
   ]
  },
  {
   "cell_type": "code",
   "execution_count": null,
   "id": "3663fcc1-f29b-4f29-b8a1-9ce619ea9952",
   "metadata": {},
   "outputs": [],
   "source": [
    "display(alumni_data)"
   ]
  },
  {
   "cell_type": "code",
   "execution_count": null,
   "id": "2bfcc484-f480-42cd-81da-7567207cb0d5",
   "metadata": {},
   "outputs": [],
   "source": [
    "[alumni_data.children[i].value for i in range(len(alumni_data.children))]"
   ]
  },
  {
   "cell_type": "code",
   "execution_count": null,
   "id": "f600adde-184c-40e9-a109-0d2cc407e898",
   "metadata": {},
   "outputs": [],
   "source": [
    "data = [[alumni_data.children[i].value for i in range(len(alumni_data.children))]]\n",
    "\n",
    "alumni = pd.DataFrame(data, columns=['Sex', 'Age', 'Graduation_Year', 'Zip', 'Address_Active',\n",
    "       'Activity_Count', 'Major'])"
   ]
  },
  {
   "cell_type": "markdown",
   "id": "2ad9f8c4-6d1d-4126-bbf2-7652c98f34a8",
   "metadata": {},
   "source": [
    "## Survey Data Download\n",
    "#### Please download compiled survey data from US Census and American Community Survey"
   ]
  },
  {
   "cell_type": "code",
   "execution_count": null,
   "id": "268913f1-5ab4-4be1-8a7f-9104fd6cec75",
   "metadata": {},
   "outputs": [],
   "source": [
    "!wget -O survey_data.csv https://csci7850-f22-semesterproject.nyc3.digitaloceanspaces.com/survey_data.csv"
   ]
  },
  {
   "cell_type": "code",
   "execution_count": null,
   "id": "2cfbe35f-d3f0-4457-8cc8-8eb01e09face",
   "metadata": {},
   "outputs": [],
   "source": [
    "survey = pd.read_csv(\"survey_data.csv\")"
   ]
  },
  {
   "cell_type": "code",
   "execution_count": null,
   "id": "62f71575-caf9-4375-bc9a-48b0fe950893",
   "metadata": {},
   "outputs": [],
   "source": [
    "with_NA = survey[survey.columns[survey.isna().any()]].columns\n",
    "for column_name in with_NA:\n",
    "    #print(column_name)\n",
    "    x = survey[column_name].mean()\n",
    "    survey[column_name].fillna(x, inplace = True)"
   ]
  },
  {
   "cell_type": "markdown",
   "id": "dc5383a8-5003-4339-9c42-2121c8ec6d84",
   "metadata": {},
   "source": [
    "## Merge Alumni and Survey Data\n",
    "#### Combine the data on the zip code of the alumni and perform data cleaning steps to prepare data for the model"
   ]
  },
  {
   "cell_type": "code",
   "execution_count": null,
   "id": "af1e5f08-873c-4830-bf51-2b3404323522",
   "metadata": {},
   "outputs": [],
   "source": [
    "all_data = pd.merge(alumni, \n",
    "                      survey, \n",
    "                      on ='Zip', \n",
    "                      how ='inner')\n",
    "all_data = all_data.drop(\"Zip\", axis=1)"
   ]
  },
  {
   "cell_type": "code",
   "execution_count": null,
   "id": "1931a1e6-0cf9-40da-ba89-25cb3092e206",
   "metadata": {},
   "outputs": [],
   "source": [
    "all_data"
   ]
  },
  {
   "cell_type": "code",
   "execution_count": null,
   "id": "6c6a6b15-52a6-485c-a472-99657736740b",
   "metadata": {},
   "outputs": [],
   "source": [
    "all_data[[\"Sex_Female\", \"Sex_Male\"]]=[[0,1] if all_data['Sex'][0] == 'M' else [1,0]]\n",
    "all_data = all_data.drop(\"Sex\", axis=1)"
   ]
  },
  {
   "cell_type": "code",
   "execution_count": null,
   "id": "1c323982-e39f-4ce1-b40f-dd90170c6f1c",
   "metadata": {},
   "outputs": [],
   "source": [
    "major_dict = {'Agriculture': 0, 'Psychology': 1, 'Animal Science': 2, 'Biology': 3, 'Aerospace Administration': 4, 'Information Systems': 5, 'Social Work': 6, 'Sociology': 7, 'Health, Physical Ed & Rec': 8, 'Interdisciplinary Studies': 9, 'Accounting': 10, 'Physical Education': 11, 'Geosciences': 12, 'Mass Communication': 13, 'Political Science': 14, 'Marketing': 15, 'Finance': 16, 'Recording Industry': 17, 'Criminal Justice Admin': 18, 'Aerospace': 19, 'History': 20, 'English': 21, 'Nursing': 22, 'Professional Studies': 23, 'Foreign Languages*': 24, 'Integrated Studies': 25, 'Communication': 26, 'Health and Human Performance': 27, 'Mathematics': 28, 'Social': 29, 'Home Economics': 30, 'Elementary Education': 31, 'Business Administration': 32, 'Industrial Studies': 33, 'Health': 34, 'Chemistry': 35, 'Business Education': 36, 'Economics': 37, 'Art': 38, 'Administration & Supervision': 39, 'General Business': 40, 'P E Elementary Schools': 41, 'Curriculum Specialist': 42, 'Reading': 43, 'Speech & Theatre': 44, 'Urban Planning': 45, 'Computer Science': 46, 'Recording Industry Mgmt': 47, 'Office Management': 48, 'Social Science': 49, 'Food Science and Technology': 50, 'Early Childhood': 51, 'Early Childhood Education': 52, 'Industrial Management': 53, 'Interior Design': 54, 'Music': 55, 'Speech': 56, 'Industrial Technology': 57, 'Speech and Hearing Therapy': 58, 'Special Education': 59, 'Management': 60, 'Medical Technology': 61, 'Professional': 62, 'Recreation': 63, 'Stenographic Business': 64, 'Health Education': 65, 'Administrative Business': 66, 'Curriculum and Instruction': 67, 'Gerontology*': 68, 'Human Sciences': 69, 'Guidance and Counseling': 70, 'University Studies': 71, 'Textiles Merchandising Design': 72, 'Plant & Soil Science': 73, 'Family & Consumer Studies': 74, 'Agribusiness': 75, 'Liberal Studies': 76, 'International Relations': 77, 'Entrepreneurship': 78, 'Engineering Technology': 79, 'Curriculum & Inst/Elem Edu*': 80, 'Industrial & Org Psychology': 81, 'Biochemistry': 82, 'Concrete Industry Management': 83, 'Organizational Communication': 84, 'Construction Management': 85, 'Science': 86, 'Exercise Science': 87, 'Speech/Language Path & Audio': 88, 'Curriculum & Inst/Ed Leadrshp': 89, 'Nutrition & Food Science': 90, 'Physics': 91, 'Global Studies & Cultural Geog': 92, 'Leisure Sprt & Tourism Studies': 93, 'Mechatronics Engineering': 94, 'Animation': 95, 'Public History': 96, 'Global Studies & Human Geog': 97, 'Religious Studies': 98, 'Tourism & Hospitality Mgmt': 99, 'Journalism': 100, 'Theatre': 101, 'Media & Entertainment': 102, 'Art Education': 103, 'International Affairs': 104, 'Video & Film Production': 105, 'Professional Science': 106, 'Applied Social Research': 107, 'Mathematics & Science Educ': 108, 'Information Technology': 109, 'Plant Biology': 110, 'Vocational Technical Education': 111, 'Engr Tech & Industrial Studies': 112, 'Foreign Languages': 113, 'Industrial Arts': 114, 'Geography': 115, 'Industrial Education': 116, 'Wellness and Fitness': 117, 'Recreation & Leisure Services': 118, 'Anthropology': 119, 'Aviation Administration': 120, 'U.S. Culture and Education': 121, 'Environmental Sustain Tech': 122, 'Africana Studies': 123, 'Liberal Arts': 124, 'Environmental Science': 125, 'Professional Counseling': 126, 'Commerce': 127, 'Philosophy': 128, 'Aerospace Education': 129, 'Systems Analysis': 130, 'Environmental Science Tech': 131, 'Pre-Law': 132, 'Vocational Home Economics': 133, 'Earth Science*': 134, 'Accounting & Info Systems': 135, 'Foods and Nutrition': 136, 'Law Enforcement': 137, 'Fashion Merchandising': 138, 'Basic & Applied': 139, 'Social Studies': 140, 'Athletic Training': 141, 'Construction Mgmt Technology': 142, 'Recording Arts & Technologies': 143, 'Art History': 144, 'Global Studies': 145, 'Literacy': 146, 'Community & Public Health': 147, 'Dance': 148, 'Literacy Studies': 149, 'Assessment, Lrn & Sch Imprvmnt': 150, 'Forensic Science': 151, 'Audio Production': 152, 'Library Science*': 153, 'Home Economics Education': 154, 'Education*': 155, 'Instrumental Music': 156, 'Public Administration': 157, 'Actuarial Science': 158, 'Music Education': 159, 'Industrial Relations': 160, 'Marketing Education': 161, 'Human Performance': 162, 'Adv Stud in Teaching Learning': 163, 'French': 164, 'Management/Marketing': 165, 'School Music': 166, 'Pre Professional': 167, 'Media and Communication': 168, 'Fermentation Science': 169, 'Leisure and Sport Management': 170, 'Data Science': 171, 'Exercise Science & Healt Promo': 172, 'Interactive Media': 173, 'Risk Management & Insurance': 174, 'Horse Science': 175, 'Health & Physical Education': 176, 'Dyslexic Studies': 177, 'Natural Science': 178, 'Music Arts': 179, 'Spanish': 180, 'School Counseling': 181, 'Academic Focus': 182, 'Fashion': 183, 'German': 184, 'Physical Science': 185, 'College & University Teaching': 186, 'Public Health': 187, 'Aeronautical Science': 188, 'Middle Level Education': 189, 'Business Innovation & Entr': 190, 'Dietetics': 191, 'Curriculum & Inst/Psychology': 192, 'Industrial Arts - General': 193, 'Family Nurse Practitioner': 194, 'Other': 195}\n",
    "# put the rest of the major dictionary here. Split data for each model....figure it out later\n",
    "all_data[\"Major\"] = all_data[\"Major\"].replace(major_dict)\n",
    "save_column = all_data[\"Major\"]\n",
    "all_data.drop(\"Major\", axis=1, inplace=True)\n",
    "all_data[\"Major\"] = save_column"
   ]
  },
  {
   "cell_type": "code",
   "execution_count": null,
   "id": "b3464665-83e9-4007-a9f3-7f3df0bf80a7",
   "metadata": {},
   "outputs": [],
   "source": [
    "#seperate numerical and categorical data -- preprocess numerical data\n",
    "X = all_data.iloc[:, :].values\n",
    "x1 = X[:,:-1]\n",
    "x1 = preprocess(x1)\n",
    "x2 = X[:,-1:]"
   ]
  },
  {
   "cell_type": "code",
   "execution_count": null,
   "id": "e9280bcf-ceea-40ca-8482-94c739444565",
   "metadata": {},
   "outputs": [],
   "source": []
  },
  {
   "cell_type": "markdown",
   "id": "f9bee363-8ba5-49bb-8fe3-3adee5b99a3f",
   "metadata": {},
   "source": [
    "## Download Donor Categorization Model\n",
    "#### This model classifies alumni donors into 5 categories, given the data above. "
   ]
  },
  {
   "cell_type": "code",
   "execution_count": null,
   "id": "65fccfec-2b3e-4a81-9068-bcf080a5c24f",
   "metadata": {},
   "outputs": [],
   "source": [
    "#get the pretrained model\n",
    "!wget -O donor_categorization.h5 https://csci7850-f22-semesterproject.nyc3.digitaloceanspaces.com/donor_categorization.h5"
   ]
  },
  {
   "cell_type": "code",
   "execution_count": null,
   "id": "47dce7a7-0a9f-437a-8d3f-bc11326bfaf8",
   "metadata": {},
   "outputs": [],
   "source": [
    "#load and graph the model\n",
    "model = keras.models.load_model(\"donor_categorization.h5\")\n",
    "\n",
    "#uncomment to plot model\n",
    "#keras.utils.plot_model(model,show_shapes=True,expand_nested=True)"
   ]
  },
  {
   "cell_type": "markdown",
   "id": "e15e1ff4-f7b0-47bb-a86a-d3a9945d6c36",
   "metadata": {},
   "source": [
    "## Donor Category Final Prediction\n",
    "#### The model will predict which category of donor the alumni will fall under. "
   ]
  },
  {
   "cell_type": "code",
   "execution_count": null,
   "id": "e9a2bfc6-bfc2-471c-9de4-22ff234314df",
   "metadata": {},
   "outputs": [],
   "source": [
    "prediction = model.predict([x1,x2])[0]\n",
    "donor_category = np.argmax(prediction)\n",
    "prediction"
   ]
  },
  {
   "cell_type": "code",
   "execution_count": null,
   "id": "2018c39c-39f0-4544-b1ca-08b5de306295",
   "metadata": {},
   "outputs": [],
   "source": [
    "if donor_category == 0:\n",
    "    print(\"Donor is in class 0. They are expected to give a gift <= $10.\")\n",
    "elif donor_category == 1:\n",
    "    print(\"Donor is in class 1. They are expected to give a gift > $10 and < $21\")\n",
    "elif donor_category == 2:\n",
    "    print(\"Donor is in class 2. They are expected to give a gift >= $21 and < $50\")\n",
    "elif donor_category == 3:\n",
    "    print(\"Donor is in class 3. They are expected to give a gift >= $50 and < $100\")          \n",
    "elif donor_category == 4:\n",
    "    print(\"Donor is in class 4. They are expected to give a gift >= $100\")        "
   ]
  }
 ],
 "metadata": {
  "kernelspec": {
   "display_name": "Python 3 (ipykernel)",
   "language": "python",
   "name": "python3"
  },
  "language_info": {
   "codemirror_mode": {
    "name": "ipython",
    "version": 3
   },
   "file_extension": ".py",
   "mimetype": "text/x-python",
   "name": "python",
   "nbconvert_exporter": "python",
   "pygments_lexer": "ipython3",
   "version": "3.10.5"
  }
 },
 "nbformat": 4,
 "nbformat_minor": 5
}
